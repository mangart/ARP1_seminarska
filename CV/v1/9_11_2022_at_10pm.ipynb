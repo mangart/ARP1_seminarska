{
 "cells": [
  {
   "cell_type": "code",
   "execution_count": 1,
   "metadata": {
    "_cell_guid": "b1076dfc-b9ad-4769-8c92-a6c4dae69d19",
    "_uuid": "8f2839f25d086af736a60e9eeb907d3b93b6e0e5",
    "execution": {
     "iopub.execute_input": "2022-11-09T21:11:40.456543Z",
     "iopub.status.busy": "2022-11-09T21:11:40.456052Z",
     "iopub.status.idle": "2022-11-09T21:11:40.494686Z",
     "shell.execute_reply": "2022-11-09T21:11:40.493196Z",
     "shell.execute_reply.started": "2022-11-09T21:11:40.456445Z"
    }
   },
   "outputs": [],
   "source": [
    "# This Python 3 environment comes with many helpful analytics libraries installed\n",
    "# It is defined by the kaggle/python Docker image: https://github.com/kaggle/docker-python\n",
    "# For example, here's several helpful packages to load\n",
    "\n",
    "import numpy as np # linear algebra\n",
    "import pandas as pd # data processing, CSV file I/O (e.g. pd.read_csv)\n",
    "\n",
    "# Input data files are available in the read-only \"../input/\" directory\n",
    "# For example, running this (by clicking run or pressing Shift+Enter) will list all files under the input directory\n",
    "\n",
    "import os\n",
    "#for dirname, _, filenames in os.walk('/kaggle/input'):\n",
    "#    for filename in filenames:\n",
    "#        print(os.path.join(dirname, filename))\n",
    "\n",
    "# You can write up to 20GB to the current directory (/kaggle/working/) that gets preserved as output when you create a version using \"Save & Run All\" \n",
    "# You can also write temporary files to /kaggle/temp/, but they won't be saved outside of the current session"
   ]
  },
  {
   "cell_type": "code",
   "execution_count": 2,
   "metadata": {
    "execution": {
     "iopub.execute_input": "2022-11-09T21:11:40.497977Z",
     "iopub.status.busy": "2022-11-09T21:11:40.497318Z",
     "iopub.status.idle": "2022-11-09T21:12:48.406452Z",
     "shell.execute_reply": "2022-11-09T21:12:48.404905Z",
     "shell.execute_reply.started": "2022-11-09T21:11:40.497928Z"
    }
   },
   "outputs": [
    {
     "name": "stdout",
     "output_type": "stream",
     "text": [
      "Requirement already satisfied: tensorflow in /opt/conda/lib/python3.7/site-packages (2.6.4)\n",
      "Requirement already satisfied: google-pasta~=0.2 in /opt/conda/lib/python3.7/site-packages (from tensorflow) (0.2.0)\n",
      "Requirement already satisfied: gast==0.4.0 in /opt/conda/lib/python3.7/site-packages (from tensorflow) (0.4.0)\n",
      "Requirement already satisfied: tensorflow-estimator<2.7,>=2.6.0 in /opt/conda/lib/python3.7/site-packages (from tensorflow) (2.6.0)\n",
      "Requirement already satisfied: clang~=5.0 in /opt/conda/lib/python3.7/site-packages (from tensorflow) (5.0)\n",
      "Requirement already satisfied: flatbuffers~=1.12.0 in /opt/conda/lib/python3.7/site-packages (from tensorflow) (1.12)\n",
      "Requirement already satisfied: wrapt~=1.12.1 in /opt/conda/lib/python3.7/site-packages (from tensorflow) (1.12.1)\n",
      "Requirement already satisfied: termcolor~=1.1.0 in /opt/conda/lib/python3.7/site-packages (from tensorflow) (1.1.0)\n",
      "Collecting numpy~=1.19.2\n",
      "  Downloading numpy-1.19.5-cp37-cp37m-manylinux2010_x86_64.whl (14.8 MB)\n",
      "\u001b[2K     \u001b[90m━━━━━━━━━━━━━━━━━━━━━━━━━━━━━━━━━━━━━━━━\u001b[0m \u001b[32m14.8/14.8 MB\u001b[0m \u001b[31m32.8 MB/s\u001b[0m eta \u001b[36m0:00:00\u001b[0m00:01\u001b[0m00:01\u001b[0m\n",
      "\u001b[?25hRequirement already satisfied: six~=1.15.0 in /opt/conda/lib/python3.7/site-packages (from tensorflow) (1.15.0)\n",
      "Collecting typing-extensions<3.11,>=3.7\n",
      "  Downloading typing_extensions-3.10.0.2-py3-none-any.whl (26 kB)\n",
      "Collecting tensorboard<2.7,>=2.6.0\n",
      "  Downloading tensorboard-2.6.0-py3-none-any.whl (5.6 MB)\n",
      "\u001b[2K     \u001b[90m━━━━━━━━━━━━━━━━━━━━━━━━━━━━━━━━━━━━━━━━\u001b[0m \u001b[32m5.6/5.6 MB\u001b[0m \u001b[31m34.2 MB/s\u001b[0m eta \u001b[36m0:00:00\u001b[0m00:01\u001b[0m00:01\u001b[0mm\n",
      "\u001b[?25hRequirement already satisfied: wheel~=0.35 in /opt/conda/lib/python3.7/site-packages (from tensorflow) (0.37.1)\n",
      "Requirement already satisfied: protobuf>=3.9.2 in /opt/conda/lib/python3.7/site-packages (from tensorflow) (3.19.4)\n",
      "Requirement already satisfied: astunparse~=1.6.3 in /opt/conda/lib/python3.7/site-packages (from tensorflow) (1.6.3)\n",
      "Requirement already satisfied: keras-preprocessing~=1.1.2 in /opt/conda/lib/python3.7/site-packages (from tensorflow) (1.1.2)\n",
      "Requirement already satisfied: opt-einsum~=3.3.0 in /opt/conda/lib/python3.7/site-packages (from tensorflow) (3.3.0)\n",
      "Requirement already satisfied: grpcio<2.0,>=1.37.0 in /opt/conda/lib/python3.7/site-packages (from tensorflow) (1.43.0)\n",
      "Requirement already satisfied: keras<2.7,>=2.6.0 in /opt/conda/lib/python3.7/site-packages (from tensorflow) (2.6.0)\n",
      "Collecting h5py~=3.1.0\n",
      "  Downloading h5py-3.1.0-cp37-cp37m-manylinux1_x86_64.whl (4.0 MB)\n",
      "\u001b[2K     \u001b[90m━━━━━━━━━━━━━━━━━━━━━━━━━━━━━━━━━━━━━━━━\u001b[0m \u001b[32m4.0/4.0 MB\u001b[0m \u001b[31m42.7 MB/s\u001b[0m eta \u001b[36m0:00:00\u001b[0m00:01\u001b[0m:00:01\u001b[0m\n",
      "\u001b[?25hRequirement already satisfied: absl-py~=0.10 in /opt/conda/lib/python3.7/site-packages (from tensorflow) (0.15.0)\n",
      "Requirement already satisfied: cached-property in /opt/conda/lib/python3.7/site-packages (from h5py~=3.1.0->tensorflow) (1.5.2)\n",
      "Requirement already satisfied: markdown>=2.6.8 in /opt/conda/lib/python3.7/site-packages (from tensorboard<2.7,>=2.6.0->tensorflow) (3.3.7)\n",
      "Requirement already satisfied: setuptools>=41.0.0 in /opt/conda/lib/python3.7/site-packages (from tensorboard<2.7,>=2.6.0->tensorflow) (59.8.0)\n",
      "Requirement already satisfied: requests<3,>=2.21.0 in /opt/conda/lib/python3.7/site-packages (from tensorboard<2.7,>=2.6.0->tensorflow) (2.28.1)\n",
      "Requirement already satisfied: werkzeug>=0.11.15 in /opt/conda/lib/python3.7/site-packages (from tensorboard<2.7,>=2.6.0->tensorflow) (2.2.2)\n",
      "Requirement already satisfied: tensorboard-plugin-wit>=1.6.0 in /opt/conda/lib/python3.7/site-packages (from tensorboard<2.7,>=2.6.0->tensorflow) (1.8.1)\n",
      "Requirement already satisfied: tensorboard-data-server<0.7.0,>=0.6.0 in /opt/conda/lib/python3.7/site-packages (from tensorboard<2.7,>=2.6.0->tensorflow) (0.6.1)\n",
      "Requirement already satisfied: google-auth-oauthlib<0.5,>=0.4.1 in /opt/conda/lib/python3.7/site-packages (from tensorboard<2.7,>=2.6.0->tensorflow) (0.4.6)\n",
      "Requirement already satisfied: google-auth<2,>=1.6.3 in /opt/conda/lib/python3.7/site-packages (from tensorboard<2.7,>=2.6.0->tensorflow) (1.35.0)\n",
      "Requirement already satisfied: cachetools<5.0,>=2.0.0 in /opt/conda/lib/python3.7/site-packages (from google-auth<2,>=1.6.3->tensorboard<2.7,>=2.6.0->tensorflow) (4.2.4)\n",
      "Requirement already satisfied: rsa<5,>=3.1.4 in /opt/conda/lib/python3.7/site-packages (from google-auth<2,>=1.6.3->tensorboard<2.7,>=2.6.0->tensorflow) (4.8)\n",
      "Requirement already satisfied: pyasn1-modules>=0.2.1 in /opt/conda/lib/python3.7/site-packages (from google-auth<2,>=1.6.3->tensorboard<2.7,>=2.6.0->tensorflow) (0.2.7)\n",
      "Requirement already satisfied: requests-oauthlib>=0.7.0 in /opt/conda/lib/python3.7/site-packages (from google-auth-oauthlib<0.5,>=0.4.1->tensorboard<2.7,>=2.6.0->tensorflow) (1.3.1)\n",
      "Requirement already satisfied: importlib-metadata>=4.4 in /opt/conda/lib/python3.7/site-packages (from markdown>=2.6.8->tensorboard<2.7,>=2.6.0->tensorflow) (4.13.0)\n",
      "Requirement already satisfied: certifi>=2017.4.17 in /opt/conda/lib/python3.7/site-packages (from requests<3,>=2.21.0->tensorboard<2.7,>=2.6.0->tensorflow) (2022.9.24)\n",
      "Requirement already satisfied: idna<4,>=2.5 in /opt/conda/lib/python3.7/site-packages (from requests<3,>=2.21.0->tensorboard<2.7,>=2.6.0->tensorflow) (3.3)\n",
      "Requirement already satisfied: charset-normalizer<3,>=2 in /opt/conda/lib/python3.7/site-packages (from requests<3,>=2.21.0->tensorboard<2.7,>=2.6.0->tensorflow) (2.1.0)\n",
      "Requirement already satisfied: urllib3<1.27,>=1.21.1 in /opt/conda/lib/python3.7/site-packages (from requests<3,>=2.21.0->tensorboard<2.7,>=2.6.0->tensorflow) (1.26.12)\n",
      "Requirement already satisfied: MarkupSafe>=2.1.1 in /opt/conda/lib/python3.7/site-packages (from werkzeug>=0.11.15->tensorboard<2.7,>=2.6.0->tensorflow) (2.1.1)\n",
      "Requirement already satisfied: zipp>=0.5 in /opt/conda/lib/python3.7/site-packages (from importlib-metadata>=4.4->markdown>=2.6.8->tensorboard<2.7,>=2.6.0->tensorflow) (3.8.0)\n",
      "Requirement already satisfied: pyasn1<0.5.0,>=0.4.6 in /opt/conda/lib/python3.7/site-packages (from pyasn1-modules>=0.2.1->google-auth<2,>=1.6.3->tensorboard<2.7,>=2.6.0->tensorflow) (0.4.8)\n",
      "Requirement already satisfied: oauthlib>=3.0.0 in /opt/conda/lib/python3.7/site-packages (from requests-oauthlib>=0.7.0->google-auth-oauthlib<0.5,>=0.4.1->tensorboard<2.7,>=2.6.0->tensorflow) (3.2.0)\n",
      "Installing collected packages: typing-extensions, numpy, h5py, tensorboard\n",
      "  Attempting uninstall: typing-extensions\n",
      "    Found existing installation: typing_extensions 4.4.0\n",
      "    Uninstalling typing_extensions-4.4.0:\n",
      "      Successfully uninstalled typing_extensions-4.4.0\n",
      "  Attempting uninstall: numpy\n",
      "    Found existing installation: numpy 1.21.6\n",
      "    Uninstalling numpy-1.21.6:\n",
      "      Successfully uninstalled numpy-1.21.6\n",
      "  Attempting uninstall: h5py\n",
      "    Found existing installation: h5py 3.7.0\n",
      "    Uninstalling h5py-3.7.0:\n",
      "      Successfully uninstalled h5py-3.7.0\n",
      "  Attempting uninstall: tensorboard\n",
      "    Found existing installation: tensorboard 2.10.1\n",
      "    Uninstalling tensorboard-2.10.1:\n",
      "      Successfully uninstalled tensorboard-2.10.1\n",
      "\u001b[31mERROR: pip's dependency resolver does not currently take into account all the packages that are installed. This behaviour is the source of the following dependency conflicts.\n",
      "tensorflow-io 0.21.0 requires tensorflow-io-gcs-filesystem==0.21.0, which is not installed.\n",
      "beatrix-jupyterlab 3.1.7 requires google-cloud-bigquery-storage, which is not installed.\n",
      "xarray-einstats 0.2.2 requires numpy>=1.21, but you have numpy 1.19.5 which is incompatible.\n",
      "tfx-bsl 1.9.0 requires pyarrow<6,>=1, but you have pyarrow 8.0.0 which is incompatible.\n",
      "tfx-bsl 1.9.0 requires tensorflow!=2.0.*,!=2.1.*,!=2.2.*,!=2.3.*,!=2.4.*,!=2.5.*,!=2.6.*,!=2.7.*,!=2.8.*,<3,>=1.15.5, but you have tensorflow 2.6.4 which is incompatible.\n",
      "tensorflow-transform 1.9.0 requires pyarrow<6,>=1, but you have pyarrow 8.0.0 which is incompatible.\n",
      "tensorflow-transform 1.9.0 requires tensorflow!=2.0.*,!=2.1.*,!=2.2.*,!=2.3.*,!=2.4.*,!=2.5.*,!=2.6.*,!=2.7.*,!=2.8.*,<2.10,>=1.15.5, but you have tensorflow 2.6.4 which is incompatible.\n",
      "tensorflow-serving-api 2.9.0 requires tensorflow<3,>=2.9.0, but you have tensorflow 2.6.4 which is incompatible.\n",
      "pytorch-lightning 1.7.7 requires tensorboard>=2.9.1, but you have tensorboard 2.6.0 which is incompatible.\n",
      "pytorch-lightning 1.7.7 requires typing-extensions>=4.0.0, but you have typing-extensions 3.10.0.2 which is incompatible.\n",
      "pdpbox 0.2.1 requires matplotlib==3.1.1, but you have matplotlib 3.5.3 which is incompatible.\n",
      "pandas-profiling 3.1.0 requires markupsafe~=2.0.1, but you have markupsafe 2.1.1 which is incompatible.\n",
      "nnabla 1.31.0 requires numpy>=1.20.0, but you have numpy 1.19.5 which is incompatible.\n",
      "jaxlib 0.3.22 requires numpy>=1.20, but you have numpy 1.19.5 which is incompatible.\n",
      "jax 0.3.23 requires numpy>=1.20, but you have numpy 1.19.5 which is incompatible.\n",
      "flax 0.6.1 requires typing-extensions>=4.1.1, but you have typing-extensions 3.10.0.2 which is incompatible.\n",
      "flake8 4.0.1 requires importlib-metadata<4.3; python_version < \"3.8\", but you have importlib-metadata 4.13.0 which is incompatible.\n",
      "featuretools 1.11.1 requires numpy>=1.21.0, but you have numpy 1.19.5 which is incompatible.\n",
      "cmdstanpy 1.0.7 requires numpy>=1.21, but you have numpy 1.19.5 which is incompatible.\n",
      "apache-beam 2.40.0 requires dill<0.3.2,>=0.3.1.1, but you have dill 0.3.5.1 which is incompatible.\n",
      "apache-beam 2.40.0 requires pyarrow<8.0.0,>=0.15.1, but you have pyarrow 8.0.0 which is incompatible.\n",
      "allennlp 2.10.0 requires h5py>=3.6.0, but you have h5py 3.1.0 which is incompatible.\n",
      "allennlp 2.10.0 requires numpy>=1.21.4, but you have numpy 1.19.5 which is incompatible.\n",
      "allennlp 2.10.0 requires protobuf==3.20.0, but you have protobuf 3.19.4 which is incompatible.\n",
      "aioitertools 0.11.0 requires typing_extensions>=4.0; python_version < \"3.10\", but you have typing-extensions 3.10.0.2 which is incompatible.\n",
      "aiobotocore 2.4.0 requires botocore<1.27.60,>=1.27.59, but you have botocore 1.27.93 which is incompatible.\u001b[0m\u001b[31m\n",
      "\u001b[0mSuccessfully installed h5py-3.1.0 numpy-1.19.5 tensorboard-2.6.0 typing-extensions-3.10.0.2\n",
      "\u001b[33mWARNING: Running pip as the 'root' user can result in broken permissions and conflicting behaviour with the system package manager. It is recommended to use a virtual environment instead: https://pip.pypa.io/warnings/venv\u001b[0m\u001b[33m\n",
      "\u001b[0mCollecting tflite_support\n",
      "  Downloading tflite_support-0.4.3-cp37-cp37m-manylinux2014_x86_64.whl (60.9 MB)\n",
      "\u001b[2K     \u001b[90m━━━━━━━━━━━━━━━━━━━━━━━━━━━━━━━━━━━━━━━━\u001b[0m \u001b[32m60.9/60.9 MB\u001b[0m \u001b[31m14.1 MB/s\u001b[0m eta \u001b[36m0:00:00\u001b[0m00:01\u001b[0m00:01\u001b[0m\n",
      "\u001b[?25hCollecting flatbuffers>=2.0\n",
      "  Downloading flatbuffers-22.10.26-py2.py3-none-any.whl (26 kB)\n",
      "Requirement already satisfied: pybind11>=2.6.0 in /opt/conda/lib/python3.7/site-packages (from tflite_support) (2.10.0)\n",
      "Requirement already satisfied: protobuf<4,>=3.18.0 in /opt/conda/lib/python3.7/site-packages (from tflite_support) (3.19.4)\n",
      "Requirement already satisfied: absl-py>=0.7.0 in /opt/conda/lib/python3.7/site-packages (from tflite_support) (0.15.0)\n",
      "Collecting numpy>=1.20.0\n",
      "  Downloading numpy-1.21.6-cp37-cp37m-manylinux_2_12_x86_64.manylinux2010_x86_64.whl (15.7 MB)\n",
      "\u001b[2K     \u001b[90m━━━━━━━━━━━━━━━━━━━━━━━━━━━━━━━━━━━━━━━━\u001b[0m \u001b[32m15.7/15.7 MB\u001b[0m \u001b[31m31.0 MB/s\u001b[0m eta \u001b[36m0:00:00\u001b[0m00:01\u001b[0m00:01\u001b[0m\n",
      "\u001b[?25hCollecting sounddevice>=0.4.4\n",
      "  Downloading sounddevice-0.4.5-py3-none-any.whl (31 kB)\n",
      "Requirement already satisfied: six in /opt/conda/lib/python3.7/site-packages (from absl-py>=0.7.0->tflite_support) (1.15.0)\n",
      "Requirement already satisfied: CFFI>=1.0 in /opt/conda/lib/python3.7/site-packages (from sounddevice>=0.4.4->tflite_support) (1.15.0)\n",
      "Requirement already satisfied: pycparser in /opt/conda/lib/python3.7/site-packages (from CFFI>=1.0->sounddevice>=0.4.4->tflite_support) (2.21)\n",
      "Installing collected packages: flatbuffers, numpy, sounddevice, tflite_support\n",
      "  Attempting uninstall: flatbuffers\n",
      "    Found existing installation: flatbuffers 1.12\n",
      "    Uninstalling flatbuffers-1.12:\n",
      "      Successfully uninstalled flatbuffers-1.12\n",
      "  Attempting uninstall: numpy\n",
      "    Found existing installation: numpy 1.19.5\n",
      "    Uninstalling numpy-1.19.5:\n",
      "      Successfully uninstalled numpy-1.19.5\n",
      "\u001b[31mERROR: pip's dependency resolver does not currently take into account all the packages that are installed. This behaviour is the source of the following dependency conflicts.\n",
      "tensorflow-io 0.21.0 requires tensorflow-io-gcs-filesystem==0.21.0, which is not installed.\n",
      "beatrix-jupyterlab 3.1.7 requires google-cloud-bigquery-storage, which is not installed.\n",
      "tfx-bsl 1.9.0 requires pyarrow<6,>=1, but you have pyarrow 8.0.0 which is incompatible.\n",
      "tfx-bsl 1.9.0 requires tensorflow!=2.0.*,!=2.1.*,!=2.2.*,!=2.3.*,!=2.4.*,!=2.5.*,!=2.6.*,!=2.7.*,!=2.8.*,<3,>=1.15.5, but you have tensorflow 2.6.4 which is incompatible.\n",
      "tensorflow 2.6.4 requires flatbuffers~=1.12.0, but you have flatbuffers 22.10.26 which is incompatible.\n",
      "tensorflow 2.6.4 requires numpy~=1.19.2, but you have numpy 1.21.6 which is incompatible.\n",
      "tensorflow-transform 1.9.0 requires pyarrow<6,>=1, but you have pyarrow 8.0.0 which is incompatible.\n",
      "tensorflow-transform 1.9.0 requires tensorflow!=2.0.*,!=2.1.*,!=2.2.*,!=2.3.*,!=2.4.*,!=2.5.*,!=2.6.*,!=2.7.*,!=2.8.*,<2.10,>=1.15.5, but you have tensorflow 2.6.4 which is incompatible.\n",
      "tensorflow-serving-api 2.9.0 requires tensorflow<3,>=2.9.0, but you have tensorflow 2.6.4 which is incompatible.\n",
      "pytorch-lightning 1.7.7 requires tensorboard>=2.9.1, but you have tensorboard 2.6.0 which is incompatible.\n",
      "pytorch-lightning 1.7.7 requires typing-extensions>=4.0.0, but you have typing-extensions 3.10.0.2 which is incompatible.\n",
      "pdpbox 0.2.1 requires matplotlib==3.1.1, but you have matplotlib 3.5.3 which is incompatible.\n",
      "pandas-profiling 3.1.0 requires markupsafe~=2.0.1, but you have markupsafe 2.1.1 which is incompatible.\n",
      "flax 0.6.1 requires typing-extensions>=4.1.1, but you have typing-extensions 3.10.0.2 which is incompatible.\n",
      "apache-beam 2.40.0 requires dill<0.3.2,>=0.3.1.1, but you have dill 0.3.5.1 which is incompatible.\n",
      "apache-beam 2.40.0 requires pyarrow<8.0.0,>=0.15.1, but you have pyarrow 8.0.0 which is incompatible.\n",
      "allennlp 2.10.0 requires h5py>=3.6.0, but you have h5py 3.1.0 which is incompatible.\n",
      "allennlp 2.10.0 requires protobuf==3.20.0, but you have protobuf 3.19.4 which is incompatible.\u001b[0m\u001b[31m\n",
      "\u001b[0mSuccessfully installed flatbuffers-22.10.26 numpy-1.21.6 sounddevice-0.4.5 tflite_support-0.4.3\n",
      "\u001b[33mWARNING: Running pip as the 'root' user can result in broken permissions and conflicting behaviour with the system package manager. It is recommended to use a virtual environment instead: https://pip.pypa.io/warnings/venv\u001b[0m\u001b[33m\n",
      "\u001b[0mRequirement already satisfied: flatbuffers in /opt/conda/lib/python3.7/site-packages (22.10.26)\n",
      "\u001b[33mWARNING: Running pip as the 'root' user can result in broken permissions and conflicting behaviour with the system package manager. It is recommended to use a virtual environment instead: https://pip.pypa.io/warnings/venv\u001b[0m\u001b[33m\n",
      "\u001b[0m"
     ]
    }
   ],
   "source": [
    "#!pip install tensorflow\n",
    "#!pip install tflite_support\n",
    "#!pip install flatbuffers"
   ]
  },
  {
   "cell_type": "code",
   "execution_count": 3,
   "metadata": {
    "execution": {
     "iopub.execute_input": "2022-11-09T21:12:48.409264Z",
     "iopub.status.busy": "2022-11-09T21:12:48.408683Z",
     "iopub.status.idle": "2022-11-09T21:12:55.952215Z",
     "shell.execute_reply": "2022-11-09T21:12:55.950618Z",
     "shell.execute_reply.started": "2022-11-09T21:12:48.409224Z"
    }
   },
   "outputs": [],
   "source": [
    "from tensorflow.keras.layers import Flatten\n",
    "from tensorflow.keras.layers import Dense\n",
    "from tensorflow.keras.layers import Input\n",
    "from tensorflow.keras.models import Model\n",
    "from tensorflow.keras.optimizers import Adam\n",
    "from tensorflow.keras.preprocessing.image import img_to_array\n",
    "from tensorflow.keras.preprocessing.image import load_img\n",
    "from sklearn.model_selection import train_test_split\n",
    "import matplotlib.pyplot as plt\n",
    "import numpy as np\n",
    "import cv2\n",
    "import os\n",
    "import json\n",
    "import tensorflow as tf\n",
    "import matplotlib.pyplot as plt\n",
    "import seaborn as sns\n",
    "from keras.preprocessing.image import ImageDataGenerator\n",
    "from sklearn.metrics import classification_report,confusion_matrix\n",
    "\n",
    "\n",
    "from tflite_support import metadata_schema_py_generated as _metadata_fb\n",
    "from tflite_support import metadata as _metadata\n",
    "import flatbuffers"
   ]
  },
  {
   "cell_type": "code",
   "execution_count": 4,
   "metadata": {
    "execution": {
     "iopub.execute_input": "2022-11-09T21:12:55.956586Z",
     "iopub.status.busy": "2022-11-09T21:12:55.955433Z",
     "iopub.status.idle": "2022-11-09T21:12:57.083784Z",
     "shell.execute_reply": "2022-11-09T21:12:57.082196Z",
     "shell.execute_reply.started": "2022-11-09T21:12:55.956543Z"
    }
   },
   "outputs": [
    {
     "name": "stdout",
     "output_type": "stream",
     "text": [
      "gtBboxCityPersonsWithDangerLevel  leftImg8bit_trainvaltest\n"
     ]
    }
   ],
   "source": [
    "!ls /kaggle/input/citypersondata"
   ]
  },
  {
   "cell_type": "code",
   "execution_count": 5,
   "metadata": {
    "execution": {
     "iopub.execute_input": "2022-11-09T21:12:57.087009Z",
     "iopub.status.busy": "2022-11-09T21:12:57.086428Z",
     "iopub.status.idle": "2022-11-09T21:12:57.095794Z",
     "shell.execute_reply": "2022-11-09T21:12:57.093896Z",
     "shell.execute_reply.started": "2022-11-09T21:12:57.086944Z"
    }
   },
   "outputs": [],
   "source": [
    "IMAGES_PATH = \"../input/citypersondata/leftImg8bit_trainvaltest/leftImg8bit\"\n",
    "ANNOTS_PATH = \"../input/citypersondata/gtBboxCityPersonsWithDangerLevel/gtBboxCityPersonsWithDangerLevel\"\n",
    "BASE_OUTPUT = \"output\"\n",
    "\n",
    "TRAIN_FILENAMES = \"../input/citypersondata-annot/train.txt\"\n",
    "TEST_FILENAMES = \"../input/citypersondata-annot/test.txt\"\n",
    "VAL_FILENAMES = \"../input/citypersondata-annot/val.txt\"\n",
    "\n",
    "NUM_CLASSES = 3\n",
    "OUTPUT_CLASSES = 4 #classes + background\n",
    "\n",
    "INIT_LR = 1e-4\n",
    "NUM_EPOCHS = 1\n",
    "BATCH_SIZE = 8\n",
    "BUFFER_SIZE = 100\n",
    "\n",
    "IMG_H = 224#512 #384 #360\n",
    "IMG_W = 224 #512 #512 #480"
   ]
  },
  {
   "cell_type": "code",
   "execution_count": 6,
   "metadata": {
    "execution": {
     "iopub.execute_input": "2022-11-09T21:12:57.097767Z",
     "iopub.status.busy": "2022-11-09T21:12:57.097364Z",
     "iopub.status.idle": "2022-11-09T21:12:57.115296Z",
     "shell.execute_reply": "2022-11-09T21:12:57.113781Z",
     "shell.execute_reply.started": "2022-11-09T21:12:57.097733Z"
    }
   },
   "outputs": [],
   "source": [
    "def getClassFromJson(json_path):\n",
    "    json_f = open(json_path)\n",
    "    data = json.load(json_f)\n",
    "    objects = data[\"objects\"]\n",
    "    highest_num = 0\n",
    "    for o in objects:\n",
    "        danger_level = None\n",
    "        if \"danger_level\" in o:\n",
    "            danger_level = int(o[\"danger_level\"])\n",
    "        else:\n",
    "            danger_level = int(o[\"my_label\"])\n",
    "        \n",
    "        \n",
    "        if highest_num < danger_level:\n",
    "            highest_num = danger_level\n",
    "        if highest_num == 3:\n",
    "            break\n",
    "    return highest_num"
   ]
  },
  {
   "cell_type": "code",
   "execution_count": 7,
   "metadata": {
    "execution": {
     "iopub.execute_input": "2022-11-09T21:12:57.118252Z",
     "iopub.status.busy": "2022-11-09T21:12:57.117210Z",
     "iopub.status.idle": "2022-11-09T21:18:12.231345Z",
     "shell.execute_reply": "2022-11-09T21:18:12.230188Z",
     "shell.execute_reply.started": "2022-11-09T21:12:57.118212Z"
    }
   },
   "outputs": [],
   "source": [
    "trainData = []\n",
    "f = open(TRAIN_FILENAMES, \"r\")\n",
    "for r in f:\n",
    "    r = r.split(\",\") #image path, annotation path\n",
    "    img_path = r[0]\n",
    "    annot_path = r[1][:-1] #without \\n\n",
    "    img_arr = cv2.imread(img_path)[...,::-1] #convert BGR to RGB format\n",
    "    resized_arr = cv2.resize(img_arr, (IMG_H, IMG_W))\n",
    "    \n",
    "    class_num = getClassFromJson(annot_path)\n",
    "    \n",
    "    trainData.append([resized_arr, class_num])\n",
    "    \n",
    "    \n",
    "f.close()"
   ]
  },
  {
   "cell_type": "code",
   "execution_count": 8,
   "metadata": {
    "execution": {
     "iopub.execute_input": "2022-11-09T21:18:12.233235Z",
     "iopub.status.busy": "2022-11-09T21:18:12.232890Z",
     "iopub.status.idle": "2022-11-09T21:18:57.045141Z",
     "shell.execute_reply": "2022-11-09T21:18:57.042960Z",
     "shell.execute_reply.started": "2022-11-09T21:18:12.233204Z"
    }
   },
   "outputs": [],
   "source": [
    "valData = []\n",
    "f = open(VAL_FILENAMES, \"r\")\n",
    "for r in f:\n",
    "    r = r.split(\",\")\n",
    "    img_path = r[0]\n",
    "    annot_path = r[1][:-1]\n",
    "    img_arr = cv2.imread(img_path)[...,::-1] #convert BGR to RGB format\n",
    "    resized_arr = cv2.resize(img_arr, (IMG_H, IMG_W))\n",
    "\n",
    "    class_num = getClassFromJson(annot_path)\n",
    "    \n",
    "    valData.append([resized_arr, class_num])\n",
    "f.close()"
   ]
  },
  {
   "cell_type": "code",
   "execution_count": 9,
   "metadata": {
    "execution": {
     "iopub.execute_input": "2022-11-09T21:18:57.051372Z",
     "iopub.status.busy": "2022-11-09T21:18:57.050941Z",
     "iopub.status.idle": "2022-11-09T21:18:57.395127Z",
     "shell.execute_reply": "2022-11-09T21:18:57.393829Z",
     "shell.execute_reply.started": "2022-11-09T21:18:57.051336Z"
    }
   },
   "outputs": [
    {
     "data": {
      "text/plain": [
       "<AxesSubplot:ylabel='count'>"
      ]
     },
     "execution_count": 9,
     "metadata": {},
     "output_type": "execute_result"
    },
    {
     "data": {
      "image/png": "[encoded data removed]",
      "text/plain": [
       "<Figure size 432x288 with 1 Axes>"
      ]
     },
     "metadata": {},
     "output_type": "display_data"
    }
   ],
   "source": [
    "l = []\n",
    "for i in trainData:\n",
    "    if i[1] == 0:\n",
    "        l.append(\"ignore\")\n",
    "    elif i[1] == 1:\n",
    "        l.append(\"safe pedestrian\")\n",
    "    elif i[1] == 2:\n",
    "        l.append(\"be careful\")\n",
    "    elif i[1] == 3:\n",
    "        l.append(\"break\")\n",
    "    else:\n",
    "        print(\"should not happen\")\n",
    "sns.set_style('darkgrid')\n",
    "sns.countplot(x=l, order=[\"ignore\", \"safe pedestrian\", \"be careful\", \"break\"])"
   ]
  },
  {
   "cell_type": "code",
   "execution_count": 10,
   "metadata": {
    "execution": {
     "iopub.execute_input": "2022-11-09T21:18:57.397026Z",
     "iopub.status.busy": "2022-11-09T21:18:57.396649Z",
     "iopub.status.idle": "2022-11-09T21:18:57.574179Z",
     "shell.execute_reply": "2022-11-09T21:18:57.572967Z",
     "shell.execute_reply.started": "2022-11-09T21:18:57.396991Z"
    }
   },
   "outputs": [
    {
     "data": {
      "text/plain": [
       "<AxesSubplot:ylabel='count'>"
      ]
     },
     "execution_count": 10,
     "metadata": {},
     "output_type": "execute_result"
    },
    {
     "data": {
      "image/png": "[encoded data removed]",
      "text/plain": [
       "<Figure size 432x288 with 1 Axes>"
      ]
     },
     "metadata": {},
     "output_type": "display_data"
    }
   ],
   "source": [
    "l = []\n",
    "for i in valData:\n",
    "    if i[1] == 0:\n",
    "        l.append(\"ignore\")\n",
    "    elif i[1] == 1:\n",
    "        l.append(\"safe pedestrian\")\n",
    "    elif i[1] == 2:\n",
    "        l.append(\"be careful\")\n",
    "    elif i[1] == 3:\n",
    "        l.append(\"break\")\n",
    "    else:\n",
    "        print(\"should not happen\")\n",
    "sns.set_style('darkgrid')\n",
    "sns.countplot(x=l, order=[\"ignore\", \"safe pedestrian\", \"be careful\", \"break\"])"
   ]
  },
  {
   "cell_type": "code",
   "execution_count": null,
   "metadata": {},
   "outputs": [],
   "source": [
    "del l"
   ]
  },
  {
   "cell_type": "code",
   "execution_count": 11,
   "metadata": {
    "execution": {
     "iopub.execute_input": "2022-11-09T21:18:57.576477Z",
     "iopub.status.busy": "2022-11-09T21:18:57.575501Z",
     "iopub.status.idle": "2022-11-09T21:18:59.397499Z",
     "shell.execute_reply": "2022-11-09T21:18:59.396335Z",
     "shell.execute_reply.started": "2022-11-09T21:18:57.576441Z"
    }
   },
   "outputs": [],
   "source": [
    "x_train = []\n",
    "y_train = []\n",
    "x_val = []\n",
    "y_val = []\n",
    "\n",
    "\n",
    "\n",
    "for feature, label in trainData:\n",
    "  x_train.append(feature)\n",
    "  y_train.append(label)\n",
    "\n",
    "for feature, label in valData:\n",
    "  x_val.append(feature)\n",
    "  y_val.append(label)\n",
    "    \n",
    "\n",
    "\n",
    "# Normalize the data\n",
    "x_train = np.array(x_train) / 255\n",
    "x_val = np.array(x_val) / 255\n",
    "\n",
    "\n",
    "x_train.reshape(-1, IMG_H, IMG_W, 1)\n",
    "y_train = np.array(y_train)\n",
    "\n",
    "x_val.reshape(-1, IMG_H, IMG_W, 1)\n",
    "y_val = np.array(y_val)"
   ]
  },
  {
   "cell_type": "code",
   "execution_count": 12,
   "metadata": {
    "execution": {
     "iopub.execute_input": "2022-11-09T21:18:59.399390Z",
     "iopub.status.busy": "2022-11-09T21:18:59.399023Z",
     "iopub.status.idle": "2022-11-09T21:19:00.908201Z",
     "shell.execute_reply": "2022-11-09T21:19:00.906860Z",
     "shell.execute_reply.started": "2022-11-09T21:18:59.399358Z"
    }
   },
   "outputs": [],
   "source": [
    "datagen = ImageDataGenerator(\n",
    "        featurewise_center=False,  # set input mean to 0 over the dataset\n",
    "        samplewise_center=False,  # set each sample mean to 0\n",
    "        featurewise_std_normalization=False,  # divide inputs by std of the dataset\n",
    "        samplewise_std_normalization=False,  # divide each input by its std\n",
    "        zca_whitening=False,  # apply ZCA whitening\n",
    "        rotation_range = 10,  # randomly rotate images in the range (degrees, 0 to 180)\n",
    "        zoom_range = 0.2, # Randomly zoom image \n",
    "        width_shift_range=0.1,  # randomly shift images horizontally (fraction of total width)\n",
    "        height_shift_range=0.1,  # randomly shift images vertically (fraction of total height)\n",
    "        horizontal_flip = True,  # randomly flip images\n",
    "        vertical_flip=False)  # randomly flip images\n",
    "\n",
    "\n",
    "datagen.fit(x_train)"
   ]
  },
  {
   "cell_type": "code",
   "execution_count": 13,
   "metadata": {
    "execution": {
     "iopub.execute_input": "2022-11-09T21:19:00.910157Z",
     "iopub.status.busy": "2022-11-09T21:19:00.909790Z",
     "iopub.status.idle": "2022-11-09T21:19:02.490561Z",
     "shell.execute_reply": "2022-11-09T21:19:02.488967Z",
     "shell.execute_reply.started": "2022-11-09T21:19:00.910126Z"
    }
   },
   "outputs": [
    {
     "name": "stderr",
     "output_type": "stream",
     "text": [
      "2022-11-09 21:19:01.013246: I tensorflow/core/common_runtime/process_util.cc:146] Creating new thread pool with default inter op setting: 2. Tune using inter_op_parallelism_threads for best performance.\n"
     ]
    },
    {
     "name": "stdout",
     "output_type": "stream",
     "text": [
      "Downloading data from https://storage.googleapis.com/tensorflow/keras-applications/mobilenet_v2/mobilenet_v2_weights_tf_dim_ordering_tf_kernels_1.0_224_no_top.h5\n",
      "9412608/9406464 [==============================] - 0s 0us/step\n",
      "9420800/9406464 [==============================] - 0s 0us/step\n"
     ]
    }
   ],
   "source": [
    "base_model = tf.keras.applications.MobileNetV2(input_shape = (IMG_H, IMG_W, 3), include_top = False, weights = \"imagenet\")"
   ]
  },
  {
   "cell_type": "code",
   "execution_count": 14,
   "metadata": {
    "execution": {
     "iopub.execute_input": "2022-11-09T21:19:02.493542Z",
     "iopub.status.busy": "2022-11-09T21:19:02.492304Z",
     "iopub.status.idle": "2022-11-09T21:19:02.503974Z",
     "shell.execute_reply": "2022-11-09T21:19:02.502467Z",
     "shell.execute_reply.started": "2022-11-09T21:19:02.493500Z"
    }
   },
   "outputs": [],
   "source": [
    "base_model.trainable = False"
   ]
  },
  {
   "cell_type": "code",
   "execution_count": 15,
   "metadata": {
    "execution": {
     "iopub.execute_input": "2022-11-09T21:19:02.506016Z",
     "iopub.status.busy": "2022-11-09T21:19:02.505085Z",
     "iopub.status.idle": "2022-11-09T21:19:02.952087Z",
     "shell.execute_reply": "2022-11-09T21:19:02.950812Z",
     "shell.execute_reply.started": "2022-11-09T21:19:02.505974Z"
    }
   },
   "outputs": [],
   "source": [
    "model = tf.keras.Sequential([base_model,\n",
    "                                 tf.keras.layers.GlobalAveragePooling2D(),\n",
    "                                 tf.keras.layers.Dropout(0.2),\n",
    "                             tf.keras.layers.Dense(64, activation=\"relu\"),\n",
    "                             tf.keras.layers.Dropout(0.2),\n",
    "                             tf.keras.layers.Dense(32, activation=\"relu\"),\n",
    "                             tf.keras.layers.Dropout(0.2),\n",
    "                                 tf.keras.layers.Dense(4, activation=\"softmax\")                                     \n",
    "                                ])"
   ]
  },
  {
   "cell_type": "code",
   "execution_count": 16,
   "metadata": {
    "execution": {
     "iopub.execute_input": "2022-11-09T21:19:02.955953Z",
     "iopub.status.busy": "2022-11-09T21:19:02.955454Z",
     "iopub.status.idle": "2022-11-09T21:19:49.947464Z",
     "shell.execute_reply": "2022-11-09T21:19:49.946460Z",
     "shell.execute_reply.started": "2022-11-09T21:19:02.955906Z"
    }
   },
   "outputs": [
    {
     "name": "stderr",
     "output_type": "stream",
     "text": [
      "2022-11-09 21:19:06.627189: I tensorflow/compiler/mlir/mlir_graph_optimization_pass.cc:185] None of the MLIR Optimization Passes are enabled (registered 2)\n",
      "/opt/conda/lib/python3.7/site-packages/keras/backend.py:4907: UserWarning: \"`sparse_categorical_crossentropy` received `from_logits=True`, but the `output` argument was produced by a sigmoid or softmax activation and thus does not represent logits. Was this intended?\"\n",
      "  '\"`sparse_categorical_crossentropy` received `from_logits=True`, but '\n"
     ]
    },
    {
     "name": "stdout",
     "output_type": "stream",
     "text": [
      "327/327 [==============================] - 43s 119ms/step - loss: 2.1712 - accuracy: 0.4092 - val_loss: 1.6795 - val_accuracy: 0.5808\n"
     ]
    }
   ],
   "source": [
    "base_learning_rate = 0.00001\n",
    "model.compile(optimizer=tf.keras.optimizers.Adam(learning_rate=base_learning_rate),\n",
    "              loss=tf.keras.losses.SparseCategoricalCrossentropy(from_logits=True),\n",
    "              loss_weights=[1.5, 0.45, 1.5, 3],\n",
    "              metrics=['accuracy'])\n",
    "\n",
    "\n",
    "ep = 1\n",
    "history = model.fit(x_train,y_train,epochs = ep , validation_data = (x_val, y_val), batch_size=BATCH_SIZE)"
   ]
  },
  {
   "cell_type": "code",
   "execution_count": 17,
   "metadata": {
    "execution": {
     "iopub.execute_input": "2022-11-09T21:19:49.950058Z",
     "iopub.status.busy": "2022-11-09T21:19:49.949510Z",
     "iopub.status.idle": "2022-11-09T21:19:50.329842Z",
     "shell.execute_reply": "2022-11-09T21:19:50.329044Z",
     "shell.execute_reply.started": "2022-11-09T21:19:49.950026Z"
    }
   },
   "outputs": [
    {
     "data": {
      "image/png": "[encoded data removed]",
      "text/plain": [
       "<Figure size 1080x1080 with 2 Axes>"
      ]
     },
     "metadata": {},
     "output_type": "display_data"
    }
   ],
   "source": [
    "acc = history.history['accuracy']\n",
    "val_acc = history.history['val_accuracy']\n",
    "loss = history.history['loss']\n",
    "val_loss = history.history['val_loss']\n",
    "epochs_range = range(ep)\n",
    "\n",
    "plt.figure(figsize=(15, 15))\n",
    "plt.subplot(2, 2, 1)\n",
    "plt.plot(epochs_range, acc, label='Training Accuracy')\n",
    "plt.plot(epochs_range, val_acc, label='Validation Accuracy')\n",
    "plt.legend(loc='lower right')\n",
    "plt.title('Training and Validation Accuracy')\n",
    "\n",
    "plt.subplot(2, 2, 2)\n",
    "plt.plot(epochs_range, loss, label='Training Loss')\n",
    "plt.plot(epochs_range, val_loss, label='Validation Loss')\n",
    "plt.legend(loc='upper right')\n",
    "plt.title('Training and Validation Loss')\n",
    "plt.show()"
   ]
  },
  {
   "cell_type": "code",
   "execution_count": 18,
   "metadata": {
    "execution": {
     "iopub.execute_input": "2022-11-09T21:19:50.331654Z",
     "iopub.status.busy": "2022-11-09T21:19:50.331163Z",
     "iopub.status.idle": "2022-11-09T21:19:50.346059Z",
     "shell.execute_reply": "2022-11-09T21:19:50.344554Z",
     "shell.execute_reply.started": "2022-11-09T21:19:50.331623Z"
    }
   },
   "outputs": [],
   "source": [
    "del x_train\n",
    "del y_train\n",
    "del x_val\n",
    "del y_val"
   ]
  },
  {
   "cell_type": "code",
   "execution_count": 19,
   "metadata": {
    "execution": {
     "iopub.execute_input": "2022-11-09T21:19:50.348484Z",
     "iopub.status.busy": "2022-11-09T21:19:50.347895Z",
     "iopub.status.idle": "2022-11-09T21:20:50.699115Z",
     "shell.execute_reply": "2022-11-09T21:20:50.697658Z",
     "shell.execute_reply.started": "2022-11-09T21:19:50.348430Z"
    }
   },
   "outputs": [],
   "source": [
    "testData = []\n",
    "f = open(TEST_FILENAMES, \"r\")\n",
    "for r in f:\n",
    "    r = r.split(\",\")\n",
    "    img_path = r[0]\n",
    "    annot_path = r[1][:-1]\n",
    "    img_arr = cv2.imread(img_path)[...,::-1] #convert BGR to RGB format\n",
    "    resized_arr = cv2.resize(img_arr, (IMG_H, IMG_W))\n",
    "\n",
    "    class_num = getClassFromJson(annot_path)\n",
    "    \n",
    "    testData.append([resized_arr, class_num])\n",
    "f.close()"
   ]
  },
  {
   "cell_type": "code",
   "execution_count": 20,
   "metadata": {
    "execution": {
     "iopub.execute_input": "2022-11-09T21:20:50.701965Z",
     "iopub.status.busy": "2022-11-09T21:20:50.701383Z",
     "iopub.status.idle": "2022-11-09T21:20:50.882265Z",
     "shell.execute_reply": "2022-11-09T21:20:50.881040Z",
     "shell.execute_reply.started": "2022-11-09T21:20:50.701917Z"
    }
   },
   "outputs": [
    {
     "data": {
      "text/plain": [
       "<AxesSubplot:ylabel='count'>"
      ]
     },
     "execution_count": 20,
     "metadata": {},
     "output_type": "execute_result"
    },
    {
     "data": {
      "image/png": "[encoded data removed]",
      "text/plain": [
       "<Figure size 432x288 with 1 Axes>"
      ]
     },
     "metadata": {},
     "output_type": "display_data"
    }
   ],
   "source": [
    "l = []\n",
    "for i in testData:\n",
    "    if i[1] == 0:\n",
    "        l.append(\"ignore\")\n",
    "    elif i[1] == 1:\n",
    "        l.append(\"safe pedestrian\")\n",
    "    elif i[1] == 2:\n",
    "        l.append(\"be careful\")\n",
    "    elif i[1] == 3:\n",
    "        l.append(\"break\")\n",
    "    else:\n",
    "        print(\"should not happen\")\n",
    "sns.set_style('darkgrid')\n",
    "sns.countplot(x=l, order=[\"ignore\", \"safe pedestrian\", \"be careful\", \"break\"])"
   ]
  },
  {
   "cell_type": "code",
   "execution_count": 21,
   "metadata": {
    "execution": {
     "iopub.execute_input": "2022-11-09T21:20:50.884980Z",
     "iopub.status.busy": "2022-11-09T21:20:50.884388Z",
     "iopub.status.idle": "2022-11-09T21:20:51.125164Z",
     "shell.execute_reply": "2022-11-09T21:20:51.124021Z",
     "shell.execute_reply.started": "2022-11-09T21:20:50.884922Z"
    }
   },
   "outputs": [],
   "source": [
    "x_test = []\n",
    "y_test = []\n",
    "\n",
    "for feature, label in testData:\n",
    "  x_test.append(feature)\n",
    "  y_test.append(label)\n",
    "    \n",
    "    \n",
    "x_test = np.array(x_test) / 255\n",
    "\n",
    "x_test.reshape(-1, IMG_H, IMG_W, 1)\n",
    "y_test = np.array(y_test)"
   ]
  },
  {
   "cell_type": "code",
   "execution_count": 22,
   "metadata": {
    "execution": {
     "iopub.execute_input": "2022-11-09T21:20:51.127927Z",
     "iopub.status.busy": "2022-11-09T21:20:51.127521Z",
     "iopub.status.idle": "2022-11-09T21:20:58.263049Z",
     "shell.execute_reply": "2022-11-09T21:20:58.261825Z",
     "shell.execute_reply.started": "2022-11-09T21:20:51.127891Z"
    }
   },
   "outputs": [
    {
     "name": "stdout",
     "output_type": "stream",
     "text": [
      "                           precision    recall  f1-score   support\n",
      "\n",
      "         Ignore (Class 0)       0.20      0.02      0.03        59\n",
      "safe pedestrian (Class 1)       0.51      0.99      0.67       252\n",
      "     Be careful (Class 2)       0.00      0.00      0.00       108\n",
      "          Break (Class 3)       0.00      0.00      0.00        81\n",
      "\n",
      "                 accuracy                           0.50       500\n",
      "                macro avg       0.18      0.25      0.18       500\n",
      "             weighted avg       0.28      0.50      0.34       500\n",
      "\n"
     ]
    },
    {
     "name": "stderr",
     "output_type": "stream",
     "text": [
      "/opt/conda/lib/python3.7/site-packages/sklearn/metrics/_classification.py:1318: UndefinedMetricWarning: Precision and F-score are ill-defined and being set to 0.0 in labels with no predicted samples. Use `zero_division` parameter to control this behavior.\n",
      "  _warn_prf(average, modifier, msg_start, len(result))\n",
      "/opt/conda/lib/python3.7/site-packages/sklearn/metrics/_classification.py:1318: UndefinedMetricWarning: Precision and F-score are ill-defined and being set to 0.0 in labels with no predicted samples. Use `zero_division` parameter to control this behavior.\n",
      "  _warn_prf(average, modifier, msg_start, len(result))\n",
      "/opt/conda/lib/python3.7/site-packages/sklearn/metrics/_classification.py:1318: UndefinedMetricWarning: Precision and F-score are ill-defined and being set to 0.0 in labels with no predicted samples. Use `zero_division` parameter to control this behavior.\n",
      "  _warn_prf(average, modifier, msg_start, len(result))\n"
     ]
    }
   ],
   "source": [
    "predictions = np.argmax(model.predict(x_test), axis=-1)\n",
    "#predictions = predictions.reshape(1,-1)[0]\n",
    "from sklearn.metrics import classification_report,confusion_matrix\n",
    "\n",
    "print(classification_report(y_test, predictions, target_names = ['Ignore (Class 0)','safe pedestrian (Class 1)', 'Be careful (Class 2)', 'Break (Class 3)']))"
   ]
  },
  {
   "cell_type": "code",
   "execution_count": 23,
   "metadata": {
    "execution": {
     "iopub.execute_input": "2022-11-09T21:20:58.265411Z",
     "iopub.status.busy": "2022-11-09T21:20:58.265041Z",
     "iopub.status.idle": "2022-11-09T21:20:58.291139Z",
     "shell.execute_reply": "2022-11-09T21:20:58.289803Z",
     "shell.execute_reply.started": "2022-11-09T21:20:58.265376Z"
    }
   },
   "outputs": [
    {
     "name": "stdout",
     "output_type": "stream",
     "text": [
      "tf.Tensor(\n",
      "[[  1  58   0   0]\n",
      " [  2 250   0   0]\n",
      " [  1 107   0   0]\n",
      " [  1  80   0   0]], shape=(4, 4), dtype=int32)\n"
     ]
    }
   ],
   "source": [
    "confusion = tf.math.confusion_matrix(labels=y_test, predictions=predictions, num_classes=4)\n",
    "print(confusion)"
   ]
  },
  {
   "cell_type": "code",
   "execution_count": 24,
   "metadata": {
    "execution": {
     "iopub.execute_input": "2022-11-09T21:20:58.299066Z",
     "iopub.status.busy": "2022-11-09T21:20:58.298630Z",
     "iopub.status.idle": "2022-11-09T21:21:29.952487Z",
     "shell.execute_reply": "2022-11-09T21:21:29.951015Z",
     "shell.execute_reply.started": "2022-11-09T21:20:58.299033Z"
    }
   },
   "outputs": [
    {
     "name": "stderr",
     "output_type": "stream",
     "text": [
      "2022-11-09 21:21:11.400721: W tensorflow/python/util/util.cc:348] Sets are not currently considered sequences, but this may change in the future, so consider avoiding using them.\n"
     ]
    }
   ],
   "source": [
    "saved_model_dir = 'saved_models'\n",
    "tf.saved_model.save(model, saved_model_dir)"
   ]
  },
  {
   "cell_type": "code",
   "execution_count": 25,
   "metadata": {
    "execution": {
     "iopub.execute_input": "2022-11-09T21:21:29.981244Z",
     "iopub.status.busy": "2022-11-09T21:21:29.980778Z",
     "iopub.status.idle": "2022-11-09T21:21:44.152076Z",
     "shell.execute_reply": "2022-11-09T21:21:44.150679Z",
     "shell.execute_reply.started": "2022-11-09T21:21:29.981207Z"
    }
   },
   "outputs": [
    {
     "name": "stderr",
     "output_type": "stream",
     "text": [
      "2022-11-09 21:21:40.647893: W tensorflow/compiler/mlir/lite/python/tf_tfl_flatbuffer_helpers.cc:351] Ignored output_format.\n",
      "2022-11-09 21:21:40.647973: W tensorflow/compiler/mlir/lite/python/tf_tfl_flatbuffer_helpers.cc:354] Ignored drop_control_dependency.\n",
      "2022-11-09 21:21:40.647995: W tensorflow/compiler/mlir/lite/python/tf_tfl_flatbuffer_helpers.cc:360] Ignored change_concat_input_ranges.\n",
      "2022-11-09 21:21:40.649478: I tensorflow/cc/saved_model/reader.cc:38] Reading SavedModel from: saved_models\n",
      "2022-11-09 21:21:40.707833: I tensorflow/cc/saved_model/reader.cc:90] Reading meta graph with tags { serve }\n",
      "2022-11-09 21:21:40.707914: I tensorflow/cc/saved_model/reader.cc:132] Reading SavedModel debug info (if present) from: saved_models\n",
      "2022-11-09 21:21:40.708121: I tensorflow/core/common_runtime/process_util.cc:146] Creating new thread pool with default inter op setting: 2. Tune using inter_op_parallelism_threads for best performance.\n",
      "2022-11-09 21:21:41.063776: I tensorflow/cc/saved_model/loader.cc:229] Restoring SavedModel bundle.\n",
      "2022-11-09 21:21:41.983154: I tensorflow/cc/saved_model/loader.cc:213] Running initialization op on SavedModel bundle at path: saved_models\n",
      "2022-11-09 21:21:42.195218: I tensorflow/cc/saved_model/loader.cc:301] SavedModel load for tags { serve }; Status: success: OK. Took 1545757 microseconds.\n",
      "2022-11-09 21:21:42.962715: I tensorflow/compiler/mlir/tensorflow/utils/dump_mlir_util.cc:210] disabling MLIR crash reproducer, set env var `MLIR_CRASH_REPRODUCER_DIRECTORY` to enable.\n",
      "2022-11-09 21:21:43.685919: I tensorflow/core/common_runtime/process_util.cc:146] Creating new thread pool with default inter op setting: 2. Tune using inter_op_parallelism_threads for best performance.\n"
     ]
    }
   ],
   "source": [
    "converter = tf.lite.TFLiteConverter.from_saved_model(saved_model_dir)\n",
    "tflite_model = converter.convert()"
   ]
  },
  {
   "cell_type": "code",
   "execution_count": 26,
   "metadata": {
    "execution": {
     "iopub.execute_input": "2022-11-09T21:21:44.154112Z",
     "iopub.status.busy": "2022-11-09T21:21:44.153722Z",
     "iopub.status.idle": "2022-11-09T21:21:44.170172Z",
     "shell.execute_reply": "2022-11-09T21:21:44.169028Z",
     "shell.execute_reply.started": "2022-11-09T21:21:44.154073Z"
    }
   },
   "outputs": [],
   "source": [
    "with open('mobilenet2_9_11_8pm.tflite', 'wb') as f:\n",
    "  f.write(tflite_model)"
   ]
  },
  {
   "cell_type": "code",
   "execution_count": 27,
   "metadata": {
    "execution": {
     "iopub.execute_input": "2022-11-09T21:21:44.172938Z",
     "iopub.status.busy": "2022-11-09T21:21:44.172438Z",
     "iopub.status.idle": "2022-11-09T21:21:44.183095Z",
     "shell.execute_reply": "2022-11-09T21:21:44.181576Z",
     "shell.execute_reply.started": "2022-11-09T21:21:44.172893Z"
    }
   },
   "outputs": [],
   "source": [
    "class ModelSpecificInfo(object):\n",
    "  \"\"\"Holds information that is specificly tied to an image classifier.\"\"\"\n",
    "\n",
    "  def __init__(self, name, version, image_width, image_height, image_min,\n",
    "               image_max, mean, std, num_classes, author):\n",
    "    self.name = name\n",
    "    self.version = version\n",
    "    self.image_width = image_width\n",
    "    self.image_height = image_height\n",
    "    self.image_min = image_min\n",
    "    self.image_max = image_max\n",
    "    self.mean = mean\n",
    "    self.std = std\n",
    "    self.num_classes = num_classes\n",
    "    self.author = author\n",
    "\n",
    "_MODEL_INFO = {\n",
    "    \"mobilenet2_9_11_8pm.tflite\":\n",
    "        ModelSpecificInfo(\n",
    "            name=\"MobileNetV2\",\n",
    "            version=\"v1\",\n",
    "            image_width=224,\n",
    "            image_height=224,\n",
    "            image_min=0,\n",
    "            image_max=255,\n",
    "            mean=[127.5],\n",
    "            std=[127.5],\n",
    "            num_classes=3,\n",
    "            author=\"TensorFlow\")\n",
    "}"
   ]
  },
  {
   "cell_type": "code",
   "execution_count": 28,
   "metadata": {
    "execution": {
     "iopub.execute_input": "2022-11-09T21:21:44.185426Z",
     "iopub.status.busy": "2022-11-09T21:21:44.184740Z",
     "iopub.status.idle": "2022-11-09T21:21:44.206989Z",
     "shell.execute_reply": "2022-11-09T21:21:44.205650Z",
     "shell.execute_reply.started": "2022-11-09T21:21:44.185390Z"
    }
   },
   "outputs": [],
   "source": [
    "class MetadataPopulatorForImageClassifier(object):\n",
    "  \"\"\"Populates the metadata for an image classifier.\"\"\"\n",
    "\n",
    "  def __init__(self, model_file, model_info, label_file_path):\n",
    "    self.model_file = model_file\n",
    "    self.model_info = model_info\n",
    "    self.label_file_path = label_file_path\n",
    "    self.metadata_buf = None\n",
    "\n",
    "  def populate(self):\n",
    "    \"\"\"Creates metadata and then populates it for an image classifier.\"\"\"\n",
    "    self._create_metadata()\n",
    "    self._populate_metadata()\n",
    "\n",
    "  def _create_metadata(self):\n",
    "    \"\"\"Creates the metadata for an image classifier.\"\"\"\n",
    "\n",
    "    # Creates model info.\n",
    "    model_meta = _metadata_fb.ModelMetadataT()\n",
    "    model_meta.name = self.model_info.name\n",
    "    model_meta.description = (\"Identify the most prominent object in the \"\n",
    "                              \"image from a set of %d categories.\" %\n",
    "                              self.model_info.num_classes)\n",
    "    model_meta.version = self.model_info.version\n",
    "    model_meta.author = self.model_info.author\n",
    "    model_meta.license = (\"Apache License. Version 2.0 \"\n",
    "                          \"http://www.apache.org/licenses/LICENSE-2.0.\")\n",
    "\n",
    "    # Creates input info.\n",
    "    input_meta = _metadata_fb.TensorMetadataT()\n",
    "    input_meta.name = \"image\"\n",
    "    input_meta.description = (\n",
    "        \"Input image to be classified. The expected image is {0} x {1}, with \"\n",
    "        \"three channels (red, blue, and green) per pixel. Each value in the \"\n",
    "        \"tensor is a single byte between {2} and {3}.\".format(\n",
    "            self.model_info.image_width, self.model_info.image_height,\n",
    "            self.model_info.image_min, self.model_info.image_max))\n",
    "    input_meta.content = _metadata_fb.ContentT()\n",
    "    input_meta.content.contentProperties = _metadata_fb.ImagePropertiesT()\n",
    "    input_meta.content.contentProperties.colorSpace = (\n",
    "        _metadata_fb.ColorSpaceType.RGB)\n",
    "    input_meta.content.contentPropertiesType = (\n",
    "        _metadata_fb.ContentProperties.ImageProperties)\n",
    "    input_normalization = _metadata_fb.ProcessUnitT()\n",
    "    input_normalization.optionsType = (\n",
    "        _metadata_fb.ProcessUnitOptions.NormalizationOptions)\n",
    "    input_normalization.options = _metadata_fb.NormalizationOptionsT()\n",
    "    input_normalization.options.mean = self.model_info.mean\n",
    "    input_normalization.options.std = self.model_info.std\n",
    "    input_meta.processUnits = [input_normalization]\n",
    "    input_stats = _metadata_fb.StatsT()\n",
    "    input_stats.max = [self.model_info.image_max]\n",
    "    input_stats.min = [self.model_info.image_min]\n",
    "    input_meta.stats = input_stats\n",
    "\n",
    "    # Creates output info.\n",
    "    output_meta = _metadata_fb.TensorMetadataT()\n",
    "    output_meta.name = \"probability\"\n",
    "    output_meta.description = \"Probabilities of the %d labels respectively.\" % self.model_info.num_classes\n",
    "    output_meta.content = _metadata_fb.ContentT()\n",
    "    output_meta.content.content_properties = _metadata_fb.FeaturePropertiesT()\n",
    "    output_meta.content.contentPropertiesType = (\n",
    "        _metadata_fb.ContentProperties.FeatureProperties)\n",
    "    output_stats = _metadata_fb.StatsT()\n",
    "    output_stats.max = [1.0]\n",
    "    output_stats.min = [0.0]\n",
    "    output_meta.stats = output_stats\n",
    "    label_file = _metadata_fb.AssociatedFileT()\n",
    "    label_file.name = os.path.basename(self.label_file_path)\n",
    "    label_file.description = \"Labels for objects that the model can recognize.\"\n",
    "    label_file.type = _metadata_fb.AssociatedFileType.TENSOR_AXIS_LABELS\n",
    "    output_meta.associatedFiles = [label_file]\n",
    "\n",
    "    # Creates subgraph info.\n",
    "    subgraph = _metadata_fb.SubGraphMetadataT()\n",
    "    subgraph.inputTensorMetadata = [input_meta]\n",
    "    subgraph.outputTensorMetadata = [output_meta]\n",
    "    model_meta.subgraphMetadata = [subgraph]\n",
    "\n",
    "    b = flatbuffers.Builder(0)\n",
    "    b.Finish(\n",
    "        model_meta.Pack(b),\n",
    "        _metadata.MetadataPopulator.METADATA_FILE_IDENTIFIER)\n",
    "    self.metadata_buf = b.Output()\n",
    "\n",
    "  def _populate_metadata(self):\n",
    "    \"\"\"Populates metadata and label file to the model file.\"\"\"\n",
    "    populator = _metadata.MetadataPopulator.with_model_file(self.model_file)\n",
    "    populator.load_metadata_buffer(self.metadata_buf)\n",
    "    populator.load_associated_files([self.label_file_path])\n",
    "    populator.populate()\n"
   ]
  },
  {
   "cell_type": "code",
   "execution_count": 29,
   "metadata": {
    "execution": {
     "iopub.execute_input": "2022-11-09T21:21:44.209366Z",
     "iopub.status.busy": "2022-11-09T21:21:44.209005Z",
     "iopub.status.idle": "2022-11-09T21:21:44.409271Z",
     "shell.execute_reply": "2022-11-09T21:21:44.407866Z",
     "shell.execute_reply.started": "2022-11-09T21:21:44.209336Z"
    }
   },
   "outputs": [],
   "source": [
    "model_file = \"mobilenet2_9_11_8pm.tflite\"\n",
    "model_basename = os.path.basename(model_file)\n",
    "\n",
    "export_model_path = os.path.join(saved_model_dir, model_basename)\n",
    "\n",
    "# Copies model_file to export_path.\n",
    "tf.io.gfile.copy(model_file, export_model_path, overwrite=True)\n",
    "\n",
    "# Generate the metadata objects and put them in the model file\n",
    "populator = MetadataPopulatorForImageClassifier(\n",
    "  export_model_path, _MODEL_INFO.get(model_file), \"../input/citypersondata-annot/labels.txt\")\n",
    "populator.populate()"
   ]
  },
  {
   "cell_type": "code",
   "execution_count": 30,
   "metadata": {
    "execution": {
     "iopub.execute_input": "2022-11-09T21:21:44.412196Z",
     "iopub.status.busy": "2022-11-09T21:21:44.411782Z",
     "iopub.status.idle": "2022-11-09T21:21:44.437195Z",
     "shell.execute_reply": "2022-11-09T21:21:44.436104Z",
     "shell.execute_reply.started": "2022-11-09T21:21:44.412162Z"
    }
   },
   "outputs": [],
   "source": [
    "# Validate the output model file by reading the metadata and produce\n",
    "# a json file with the metadata under the export path\n",
    "displayer = _metadata.MetadataDisplayer.with_model_file(export_model_path)\n",
    "export_json_file = os.path.join(saved_model_dir, os.path.splitext(model_basename)[0] + \".json\")\n",
    "json_file = displayer.get_metadata_json()\n",
    "with open(export_json_file, \"w\") as f:\n",
    "    f.write(json_file)"
   ]
  },
  {
   "cell_type": "code",
   "execution_count": 31,
   "metadata": {
    "execution": {
     "iopub.execute_input": "2022-11-09T21:21:44.439021Z",
     "iopub.status.busy": "2022-11-09T21:21:44.438375Z",
     "iopub.status.idle": "2022-11-09T21:21:44.445905Z",
     "shell.execute_reply": "2022-11-09T21:21:44.444986Z",
     "shell.execute_reply.started": "2022-11-09T21:21:44.438983Z"
    }
   },
   "outputs": [
    {
     "name": "stdout",
     "output_type": "stream",
     "text": [
      "Finished populating metadata and associated file to the model:\n",
      "mobilenet2_9_11_8pm.tflite\n",
      "The metadata json file has been saved to:\n",
      "saved_models/mobilenet2_9_11_8pm.json\n",
      "The associated file that has been been packed to the model is:\n",
      "['labels.txt']\n"
     ]
    }
   ],
   "source": [
    "print(\"Finished populating metadata and associated file to the model:\")\n",
    "print(model_file)\n",
    "print(\"The metadata json file has been saved to:\")\n",
    "print(export_json_file)\n",
    "print(\"The associated file that has been been packed to the model is:\")\n",
    "print(displayer.get_packed_associated_file_list())"
   ]
  }
 ],
 "metadata": {
  "kernelspec": {
   "display_name": "Python 3 (ipykernel)",
   "language": "python",
   "name": "python3"
  },
  "language_info": {
   "codemirror_mode": {
    "name": "ipython",
    "version": 3
   },
   "file_extension": ".py",
   "mimetype": "text/x-python",
   "name": "python",
   "nbconvert_exporter": "python",
   "pygments_lexer": "ipython3",
   "version": "3.8.10"
  }
 },
 "nbformat": 4,
 "nbformat_minor": 4
}
